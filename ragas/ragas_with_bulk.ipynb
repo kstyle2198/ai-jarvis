{
 "cells": [
  {
   "cell_type": "code",
   "execution_count": 1,
   "metadata": {},
   "outputs": [
    {
     "name": "stdout",
     "output_type": "stream",
     "text": [
      "4\n"
     ]
    },
    {
     "data": {
      "text/plain": [
       "[Document(page_content=\"['PACKAGE LIST\\\\\\\\nHULL NO. : 8250/8251 PAGE : 0\\\\\\\\nPOR NO.\\\\\\\\nSER. SEQ. DESCRIPTION Q’TY REMARK\\\\\\\\nNO. NO.\\\\\\\\nM536 AA F.W. GENERATOR EVAPORATING TYPE 1 Separately\\\\\\\\n\\\\\\\\nM536 BB SPARE PARTS & TOOLS FOR F.W. GENERATOR 1\\\\\\\\n\\\\\\\\n\\\\\\\\n\\\\\\\\n1. EACH UNIT WITHIN A PACKAGE OR SHIPPING CONTAINER SHALL BE\\\\\\\\nCLEARLY MARKED IN A MANNER AS MAY BE DESIGNATED BY THE BUYER\\\\\\\\nBY STAMPING, TAGGING OR OTHER SUITABLE MEANS WITH\\\\\\\\nIDENTIFICATION OF SUPPLY.\\\\\\\\nTHE OUTSIDE OF EACH PACKAGE AND OR PROTECTIVE DEVICES SHALL\\\\\\\\nBE CLEARLY MARKED, REFERING SHIPPING MARK.\\\\\\\\n2. ABOVE POR NO. (SER. NO. - SEQ. NO.) AND DESCRIPTION MUST BE\\\\\\\\nMARKED ON EACH PACKAGE AND PACKING LIST.', None, 'the approval drawing.\\\\\\\\n20) Eye-plate to be suitably fitted for rotor of generator, steam turbines, electric motors,\\\\\\\\nheat exchanger’s cover/tube/bundles and heavy strainer’s cover/filter/element of about\\\\\\\\n40 kg & above (And lifting eyes to have a min. diameter of 23 mm).\\\\\\\\n21) Test provision such as three way test cock to be provided for pressure switches and\\\\\\\\npressure transmitters.']\", metadata={'Query': 'what is the feature of FW generator?', 'Answer': \"OK, Captain.\\n\\nThe FW generator is a high-temperature, high-pressure equipment used for generating steam for industrial purposes. It consists of several components, including an evaporating chamber, a condensing chamber, a distillate pump, a salinity indicator, a brine/air ejector, and other accessories. The jacket cooling water of the main engine is used as a heating medium during normal sea.\\n\\nThe FW generator is designed to operate at a specific flow rate and pressure. The exact specifications are given in the package list:\\n\\n- Flow rate (m3/h) : 83 32\\n- Press.(bar) 4.5 Maker's standard\\n- Capacity : 25 ton/day with 15% fouling margin\\n\\nThe FW generator is constructed from fresh water and is equipped with an eye-plate for fitting a rotor. The generator also includes a test provision for pressure switches and pressure transmitters.\"}),\n",
       " Document(page_content=\"['PACKAGE LIST\\\\\\\\nHULL NO. : 8250/8251 PAGE : 0\\\\\\\\nPOR NO.\\\\\\\\nSER. SEQ. DESCRIPTION Q’TY REMARK\\\\\\\\nNO. NO.\\\\\\\\nM536 AA F.W. GENERATOR EVAPORATING TYPE 1 Separately\\\\\\\\n\\\\\\\\nM536 BB SPARE PARTS & TOOLS FOR F.W. GENERATOR 1\\\\\\\\n\\\\\\\\n\\\\\\\\n\\\\\\\\n1. EACH UNIT WITHIN A PACKAGE OR SHIPPING CONTAINER SHALL BE\\\\\\\\nCLEARLY MARKED IN A MANNER AS MAY BE DESIGNATED BY THE BUYER\\\\\\\\nBY STAMPING, TAGGING OR OTHER SUITABLE MEANS WITH\\\\\\\\nIDENTIFICATION OF SUPPLY.\\\\\\\\nTHE OUTSIDE OF EACH PACKAGE AND OR PROTECTIVE DEVICES SHALL\\\\\\\\nBE CLEARLY MARKED, REFERING SHIPPING MARK.\\\\\\\\n2. ABOVE POR NO. (SER. NO. - SEQ. NO.) AND DESCRIPTION MUST BE\\\\\\\\nMARKED ON EACH PACKAGE AND PACKING LIST.', None, 'the approval drawing.\\\\\\\\n20) Eye-plate to be suitably fitted for rotor of generator, steam turbines, electric motors,\\\\\\\\nheat exchanger’s cover/tube/bundles and heavy strainer’s cover/filter/element of about\\\\\\\\n40 kg & above (And lifting eyes to have a min. diameter of 23 mm).\\\\\\\\n21) Test provision such as three way test cock to be provided for pressure switches and\\\\\\\\npressure transmitters.']\", metadata={'Query': 'what is the feature of FW generator?', 'Answer': \" OK, Captain. Based on the given package list for Hull No. 8250/8251 with Part Number M536 AA:\\n\\nThe Feature of the Low Pressure Evaporating Type (FW) Generator includes:\\n\\n1. Type: It is a low pressure evaporating type generator, specifically designed for jacket water heating in marine applications. The shell & tube design ensures efficient heat transfer and corrosion resistance.\\n\\n2. Particulars:\\n   - Quantity/Shipment: One (1) set of the FW Generator is included per package.\\n   - Capacity: Each generator has a capacity of 25 tons per day, with an additional 15% fouling margin to account for any potential degradation in performance over time due to contaminants or sediment build-up.\\n   - Shell Vacuum: The generator is designed according to the manufacturer's standard (HYUNDAI-MAN B&W S.W.).\\n   - Salinity of Distillate Water: Maximum permissible salinity level for distilled water output is 10 PPM, ensuring that it meets marine application standards and does not adversely affect the engine or other systems onboard.\\n   - Design Conditions: The generator operates under three primary conditions: heating medium (jacket cooling), main engine's freshwater generator function, and condensing chamber operation.\\n\\n3. Construction & Material:\\n   - Composition: The FW Generator consists of an evaporating chamber, a condensing chamber, distillate pump, salinity indicator, ejector (brine/air), and other necessary accessories.\\n   - Jacket Cooling Water Usage: It utilizes the main engine's jacket cooling water as its heating medium during normal sea operations.\\n   - Eye-plate Specifications: The eye-plates are designed to be suitably fitted for various components, such as rotor of generator, steam turbines, electric motors, heat exchanger covers/tubes/bundles, and heavy strainer covers/filters/elements (approximately 40 kg & above).\\n   - Test Provisions: The package includes provisions for three-way test cocks to be used with pressure switches and pressure transmitters. These allow for proper testing and verification of the generator's performance under different conditions.\"}),\n",
       " Document(page_content=\"['PACKAGE LIST\\\\\\\\nHULL NO. : 8250/8251 PAGE : 0\\\\\\\\nPOR NO.\\\\\\\\nSER. SEQ. DESCRIPTION Q’TY REMARK\\\\\\\\nNO. NO.\\\\\\\\nM536 AA F.W. GENERATOR EVAPORATING TYPE 1 Separately\\\\\\\\n\\\\\\\\nM536 BB SPARE PARTS & TOOLS FOR F.W. GENERATOR 1\\\\\\\\n\\\\\\\\n\\\\\\\\n\\\\\\\\n1. EACH UNIT WITHIN A PACKAGE OR SHIPPING CONTAINER SHALL BE\\\\\\\\nCLEARLY MARKED IN A MANNER AS MAY BE DESIGNATED BY THE BUYER\\\\\\\\nBY STAMPING, TAGGING OR OTHER SUITABLE MEANS WITH\\\\\\\\nIDENTIFICATION OF SUPPLY.\\\\\\\\nTHE OUTSIDE OF EACH PACKAGE AND OR PROTECTIVE DEVICES SHALL\\\\\\\\nBE CLEARLY MARKED, REFERING SHIPPING MARK.\\\\\\\\n2. ABOVE POR NO. (SER. NO. - SEQ. NO.) AND DESCRIPTION MUST BE\\\\\\\\nMARKED ON EACH PACKAGE AND PACKING LIST.', None, 'the approval drawing.\\\\\\\\n20) Eye-plate to be suitably fitted for rotor of generator, steam turbines, electric motors,\\\\\\\\nheat exchanger’s cover/tube/bundles and heavy strainer’s cover/filter/element of about\\\\\\\\n40 kg & above (And lifting eyes to have a min. diameter of 23 mm).\\\\\\\\n21) Test provision such as three way test cock to be provided for pressure switches and\\\\\\\\npressure transmitters.']\", metadata={'Query': 'what is the feature of FW generator?', 'Answer': \"OK, Captain!\\n\\nAccording to the PACKAGE LIST HULL NO. : 8250/8251 PAGE : 0, the features of the F.W. GENERATOR are:\\n\\n1. Type: Low pressure evaporating type (M/E jacket water heating)\\n2. Shell & Tube type\\n3. Capacity: 25 ton/day with a 15% fouling margin\\n\\nAdditionally, the generator is designed to operate under the following conditions:\\n\\n4. Shell vacuum: Maker's standard\\n5. Salinity of distillate water: Max. 10 PPM\\n6. Design condition:\\n\\t* HEATING MEDIUM: M/E jacket cooling F.W.\\n\\t* COOLING MEDIUM: Maker's standard\\n\\nPlease note that these specifications are based on the provided package list and may not include all possible features or details of the actual generator.\"}),\n",
       " Document(page_content=\"['PACKAGE LIST\\\\\\\\nHULL NO. : 8250/8251 PAGE : 0\\\\\\\\nPOR NO.\\\\\\\\nSER. SEQ. DESCRIPTION Q’TY REMARK\\\\\\\\nNO. NO.\\\\\\\\nM536 AA F.W. GENERATOR EVAPORATING TYPE 1 Separately\\\\\\\\n\\\\\\\\nM536 BB SPARE PARTS & TOOLS FOR F.W. GENERATOR 1\\\\\\\\n\\\\\\\\n\\\\\\\\n\\\\\\\\n1. EACH UNIT WITHIN A PACKAGE OR SHIPPING CONTAINER SHALL BE\\\\\\\\nCLEARLY MARKED IN A MANNER AS MAY BE DESIGNATED BY THE BUYER\\\\\\\\nBY STAMPING, TAGGING OR OTHER SUITABLE MEANS WITH\\\\\\\\nIDENTIFICATION OF SUPPLY.\\\\\\\\nTHE OUTSIDE OF EACH PACKAGE AND OR PROTECTIVE DEVICES SHALL\\\\\\\\nBE CLEARLY MARKED, REFERING SHIPPING MARK.\\\\\\\\n2. ABOVE POR NO. (SER. NO. - SEQ. NO.) AND DESCRIPTION MUST BE\\\\\\\\nMARKED ON EACH PACKAGE AND PACKING LIST.', None, 'the approval drawing.\\\\\\\\n20) Eye-plate to be suitably fitted for rotor of generator, steam turbines, electric motors,\\\\\\\\nheat exchanger’s cover/tube/bundles and heavy strainer’s cover/filter/element of about\\\\\\\\n40 kg & above (And lifting eyes to have a min. diameter of 23 mm).\\\\\\\\n21) Test provision such as three way test cock to be provided for pressure switches and\\\\\\\\npressure transmitters.']\", metadata={'Query': 'what is the feature of FW generator?', 'Answer': \"OK, Captain. \\n\\nThe FW generator is a low pressure evaporating type, used for heating M/E jacket water. It's a shell & tube type with the following features:\\n\\n* **Capacity:** 25 ton/day with a 15% fouling margin.\\n* **Shell Vacuum:** Maker's standard.\\n* **Salinity of Distillate Water:** Max. 10 PPM. \\n\\n\\nLet me know if you need more details about the FW generator. \\n\"})]"
      ]
     },
     "execution_count": 1,
     "metadata": {},
     "output_type": "execute_result"
    }
   ],
   "source": [
    "import pandas as pd\n",
    "from langchain_community.document_loaders import DataFrameLoader\n",
    "\n",
    "# Loading in our knowledge item (KI) dataset as a Pandas DataFrame\n",
    "df_kis = pd.read_csv('D:/ai_jarvis/results/test_003.csv')\n",
    "df_kis = df_kis[['Query','Answer','Context']]\n",
    "\n",
    "# Loading the KI data with the LangChain data loader# Creating the document loader around our Pandas dataframe\n",
    "ki_doc_loader = DataFrameLoader(data_frame = df_kis, page_content_column = 'Context')\n",
    "\n",
    "# Loading the documents as LangChain documents using the dataframe document loader\n",
    "docs = ki_doc_loader.load()\n",
    "print(len(docs))\n",
    "docs"
   ]
  },
  {
   "cell_type": "code",
   "execution_count": 2,
   "metadata": {},
   "outputs": [
    {
     "data": {
      "text/plain": [
       "True"
      ]
     },
     "execution_count": 2,
     "metadata": {},
     "output_type": "execute_result"
    }
   ],
   "source": [
    "import os\n",
    "from dotenv import load_dotenv\n",
    "load_dotenv()"
   ]
  },
  {
   "cell_type": "code",
   "execution_count": 3,
   "metadata": {},
   "outputs": [],
   "source": [
    "import nest_asyncio\n",
    "nest_asyncio.apply()"
   ]
  },
  {
   "cell_type": "code",
   "execution_count": 4,
   "metadata": {},
   "outputs": [
    {
     "data": {
      "application/vnd.jupyter.widget-view+json": {
       "model_id": "d9361f1513aa48de91868665264f2df1",
       "version_major": 2,
       "version_minor": 0
      },
      "text/plain": [
       "embedding nodes:   0%|          | 0/8 [00:00<?, ?it/s]"
      ]
     },
     "metadata": {},
     "output_type": "display_data"
    },
    {
     "name": "stderr",
     "output_type": "stream",
     "text": [
      "Filename and doc_id are the same for all nodes.\n"
     ]
    },
    {
     "data": {
      "application/vnd.jupyter.widget-view+json": {
       "model_id": "dbe90b39fc934d60ae86c285c48ad491",
       "version_major": 2,
       "version_minor": 0
      },
      "text/plain": [
       "Generating:   0%|          | 0/4 [00:00<?, ?it/s]"
      ]
     },
     "metadata": {},
     "output_type": "display_data"
    },
    {
     "data": {
      "text/html": [
       "<div>\n",
       "<style scoped>\n",
       "    .dataframe tbody tr th:only-of-type {\n",
       "        vertical-align: middle;\n",
       "    }\n",
       "\n",
       "    .dataframe tbody tr th {\n",
       "        vertical-align: top;\n",
       "    }\n",
       "\n",
       "    .dataframe thead th {\n",
       "        text-align: right;\n",
       "    }\n",
       "</style>\n",
       "<table border=\"1\" class=\"dataframe\">\n",
       "  <thead>\n",
       "    <tr style=\"text-align: right;\">\n",
       "      <th></th>\n",
       "      <th>question</th>\n",
       "      <th>contexts</th>\n",
       "      <th>ground_truth</th>\n",
       "      <th>evolution_type</th>\n",
       "      <th>metadata</th>\n",
       "      <th>episode_done</th>\n",
       "    </tr>\n",
       "  </thead>\n",
       "  <tbody>\n",
       "    <tr>\n",
       "      <th>0</th>\n",
       "      <td>What is included in the spare parts &amp; tools pa...</td>\n",
       "      <td>[['PACKAGE LIST\\\\nHULL NO. : 8250/8251 PAGE : ...</td>\n",
       "      <td>The spare parts &amp; tools package for the F.W. g...</td>\n",
       "      <td>simple</td>\n",
       "      <td>[{'Query': 'what is the feature of FW generato...</td>\n",
       "      <td>True</td>\n",
       "    </tr>\n",
       "    <tr>\n",
       "      <th>1</th>\n",
       "      <td>What information is typically included in a pa...</td>\n",
       "      <td>[['PACKAGE LIST\\\\nHULL NO. : 8250/8251 PAGE : ...</td>\n",
       "      <td>A package list for equipment like a F.W. gener...</td>\n",
       "      <td>simple</td>\n",
       "      <td>[{'Query': 'what is the feature of FW generato...</td>\n",
       "      <td>True</td>\n",
       "    </tr>\n",
       "    <tr>\n",
       "      <th>2</th>\n",
       "      <td>What does \"M536 AA\" refer to in the package li...</td>\n",
       "      <td>[['PACKAGE LIST\\\\nHULL NO. : 8250/8251 PAGE : ...</td>\n",
       "      <td>The answer to given question is not present in...</td>\n",
       "      <td>reasoning</td>\n",
       "      <td>[{'Query': 'what is the feature of FW generato...</td>\n",
       "      <td>True</td>\n",
       "    </tr>\n",
       "    <tr>\n",
       "      <th>3</th>\n",
       "      <td>What's included in the spare parts &amp; tools pac...</td>\n",
       "      <td>[['PACKAGE LIST\\\\nHULL NO. : 8250/8251 PAGE : ...</td>\n",
       "      <td>The answer to given question is not present in...</td>\n",
       "      <td>multi_context</td>\n",
       "      <td>[{'Query': 'what is the feature of FW generato...</td>\n",
       "      <td>True</td>\n",
       "    </tr>\n",
       "  </tbody>\n",
       "</table>\n",
       "</div>"
      ],
      "text/plain": [
       "                                            question  \\\n",
       "0  What is included in the spare parts & tools pa...   \n",
       "1  What information is typically included in a pa...   \n",
       "2  What does \"M536 AA\" refer to in the package li...   \n",
       "3  What's included in the spare parts & tools pac...   \n",
       "\n",
       "                                            contexts  \\\n",
       "0  [['PACKAGE LIST\\\\nHULL NO. : 8250/8251 PAGE : ...   \n",
       "1  [['PACKAGE LIST\\\\nHULL NO. : 8250/8251 PAGE : ...   \n",
       "2  [['PACKAGE LIST\\\\nHULL NO. : 8250/8251 PAGE : ...   \n",
       "3  [['PACKAGE LIST\\\\nHULL NO. : 8250/8251 PAGE : ...   \n",
       "\n",
       "                                        ground_truth evolution_type  \\\n",
       "0  The spare parts & tools package for the F.W. g...         simple   \n",
       "1  A package list for equipment like a F.W. gener...         simple   \n",
       "2  The answer to given question is not present in...      reasoning   \n",
       "3  The answer to given question is not present in...  multi_context   \n",
       "\n",
       "                                            metadata  episode_done  \n",
       "0  [{'Query': 'what is the feature of FW generato...          True  \n",
       "1  [{'Query': 'what is the feature of FW generato...          True  \n",
       "2  [{'Query': 'what is the feature of FW generato...          True  \n",
       "3  [{'Query': 'what is the feature of FW generato...          True  "
      ]
     },
     "execution_count": 4,
     "metadata": {},
     "output_type": "execute_result"
    }
   ],
   "source": [
    "from langchain_openai import ChatOpenAI, OpenAIEmbeddings\n",
    "from ragas.testset.generator import TestsetGenerator\n",
    "from ragas.testset.evolutions import simple, reasoning, multi_context, conditional\n",
    "\n",
    "# Setting the generator LLM, critic LLM, and embeddings algorithms\n",
    "chat_model = ChatOpenAI(model = 'gpt-3.5-turbo')\n",
    "embeddings = OpenAIEmbeddings()\n",
    "\n",
    "# Instantiating the test set generator\n",
    "testset_generator = TestsetGenerator.from_langchain(\n",
    "    generator_llm = chat_model,\n",
    "    critic_llm = chat_model,\n",
    "    embeddings = embeddings\n",
    ")\n",
    "\n",
    "# Generating the testset with our KI documents\n",
    "testset = testset_generator.generate_with_langchain_docs(\n",
    "    documents = docs,\n",
    "    test_size = 3,\n",
    "    distributions = {\n",
    "        simple: 0.5,\n",
    "        reasoning: 0.2,\n",
    "        multi_context: 0.2,\n",
    "        conditional: 0.1\n",
    "    }\n",
    ")\n",
    "\n",
    "# Transforming the testset to a Pandas DataFrame\n",
    "df_testset = testset.to_pandas()\n",
    "df_testset"
   ]
  },
  {
   "cell_type": "code",
   "execution_count": null,
   "metadata": {},
   "outputs": [],
   "source": []
  },
  {
   "cell_type": "code",
   "execution_count": 5,
   "metadata": {},
   "outputs": [
    {
     "data": {
      "text/html": [
       "<div>\n",
       "<style scoped>\n",
       "    .dataframe tbody tr th:only-of-type {\n",
       "        vertical-align: middle;\n",
       "    }\n",
       "\n",
       "    .dataframe tbody tr th {\n",
       "        vertical-align: top;\n",
       "    }\n",
       "\n",
       "    .dataframe thead th {\n",
       "        text-align: right;\n",
       "    }\n",
       "</style>\n",
       "<table border=\"1\" class=\"dataframe\">\n",
       "  <thead>\n",
       "    <tr style=\"text-align: right;\">\n",
       "      <th></th>\n",
       "      <th>question</th>\n",
       "      <th>contexts</th>\n",
       "      <th>answer</th>\n",
       "      <th>evolution_type</th>\n",
       "      <th>metadata</th>\n",
       "      <th>episode_done</th>\n",
       "      <th>ground_truth</th>\n",
       "    </tr>\n",
       "  </thead>\n",
       "  <tbody>\n",
       "    <tr>\n",
       "      <th>0</th>\n",
       "      <td>What is included in the spare parts &amp; tools pa...</td>\n",
       "      <td>[['PACKAGE LIST\\\\nHULL NO. : 8250/8251 PAGE : ...</td>\n",
       "      <td>The spare parts &amp; tools package for the F.W. g...</td>\n",
       "      <td>simple</td>\n",
       "      <td>[{'Query': 'what is the feature of FW generato...</td>\n",
       "      <td>True</td>\n",
       "      <td></td>\n",
       "    </tr>\n",
       "    <tr>\n",
       "      <th>1</th>\n",
       "      <td>What information is typically included in a pa...</td>\n",
       "      <td>[['PACKAGE LIST\\\\nHULL NO. : 8250/8251 PAGE : ...</td>\n",
       "      <td>A package list for equipment like a F.W. gener...</td>\n",
       "      <td>simple</td>\n",
       "      <td>[{'Query': 'what is the feature of FW generato...</td>\n",
       "      <td>True</td>\n",
       "      <td></td>\n",
       "    </tr>\n",
       "    <tr>\n",
       "      <th>2</th>\n",
       "      <td>What does \"M536 AA\" refer to in the package li...</td>\n",
       "      <td>[['PACKAGE LIST\\\\nHULL NO. : 8250/8251 PAGE : ...</td>\n",
       "      <td>The answer to given question is not present in...</td>\n",
       "      <td>reasoning</td>\n",
       "      <td>[{'Query': 'what is the feature of FW generato...</td>\n",
       "      <td>True</td>\n",
       "      <td></td>\n",
       "    </tr>\n",
       "    <tr>\n",
       "      <th>3</th>\n",
       "      <td>What's included in the spare parts &amp; tools pac...</td>\n",
       "      <td>[['PACKAGE LIST\\\\nHULL NO. : 8250/8251 PAGE : ...</td>\n",
       "      <td>The answer to given question is not present in...</td>\n",
       "      <td>multi_context</td>\n",
       "      <td>[{'Query': 'what is the feature of FW generato...</td>\n",
       "      <td>True</td>\n",
       "      <td></td>\n",
       "    </tr>\n",
       "  </tbody>\n",
       "</table>\n",
       "</div>"
      ],
      "text/plain": [
       "                                            question  \\\n",
       "0  What is included in the spare parts & tools pa...   \n",
       "1  What information is typically included in a pa...   \n",
       "2  What does \"M536 AA\" refer to in the package li...   \n",
       "3  What's included in the spare parts & tools pac...   \n",
       "\n",
       "                                            contexts  \\\n",
       "0  [['PACKAGE LIST\\\\nHULL NO. : 8250/8251 PAGE : ...   \n",
       "1  [['PACKAGE LIST\\\\nHULL NO. : 8250/8251 PAGE : ...   \n",
       "2  [['PACKAGE LIST\\\\nHULL NO. : 8250/8251 PAGE : ...   \n",
       "3  [['PACKAGE LIST\\\\nHULL NO. : 8250/8251 PAGE : ...   \n",
       "\n",
       "                                              answer evolution_type  \\\n",
       "0  The spare parts & tools package for the F.W. g...         simple   \n",
       "1  A package list for equipment like a F.W. gener...         simple   \n",
       "2  The answer to given question is not present in...      reasoning   \n",
       "3  The answer to given question is not present in...  multi_context   \n",
       "\n",
       "                                            metadata  episode_done  \\\n",
       "0  [{'Query': 'what is the feature of FW generato...          True   \n",
       "1  [{'Query': 'what is the feature of FW generato...          True   \n",
       "2  [{'Query': 'what is the feature of FW generato...          True   \n",
       "3  [{'Query': 'what is the feature of FW generato...          True   \n",
       "\n",
       "  ground_truth  \n",
       "0               \n",
       "1               \n",
       "2               \n",
       "3               "
      ]
     },
     "execution_count": 5,
     "metadata": {},
     "output_type": "execute_result"
    }
   ],
   "source": [
    "# Preparing the DataFrame to generate the new ground truth\n",
    "df_testset.rename(columns = {'ground_truth': 'answer'}, inplace = True)\n",
    "df_testset['ground_truth'] = ''\n",
    "df_testset"
   ]
  },
  {
   "cell_type": "code",
   "execution_count": 6,
   "metadata": {},
   "outputs": [
    {
     "data": {
      "text/html": [
       "<div>\n",
       "<style scoped>\n",
       "    .dataframe tbody tr th:only-of-type {\n",
       "        vertical-align: middle;\n",
       "    }\n",
       "\n",
       "    .dataframe tbody tr th {\n",
       "        vertical-align: top;\n",
       "    }\n",
       "\n",
       "    .dataframe thead th {\n",
       "        text-align: right;\n",
       "    }\n",
       "</style>\n",
       "<table border=\"1\" class=\"dataframe\">\n",
       "  <thead>\n",
       "    <tr style=\"text-align: right;\">\n",
       "      <th></th>\n",
       "      <th>question</th>\n",
       "      <th>contexts</th>\n",
       "      <th>answer</th>\n",
       "      <th>evolution_type</th>\n",
       "      <th>metadata</th>\n",
       "      <th>episode_done</th>\n",
       "      <th>ground_truth</th>\n",
       "    </tr>\n",
       "  </thead>\n",
       "  <tbody>\n",
       "    <tr>\n",
       "      <th>0</th>\n",
       "      <td>What is included in the spare parts &amp; tools pa...</td>\n",
       "      <td>[['PACKAGE LIST\\\\nHULL NO. : 8250/8251 PAGE : ...</td>\n",
       "      <td>The spare parts &amp; tools package for the F.W. g...</td>\n",
       "      <td>simple</td>\n",
       "      <td>[{'Query': 'what is the feature of FW generato...</td>\n",
       "      <td>True</td>\n",
       "      <td>The context provided does not contain detailed...</td>\n",
       "    </tr>\n",
       "    <tr>\n",
       "      <th>1</th>\n",
       "      <td>What information is typically included in a pa...</td>\n",
       "      <td>[['PACKAGE LIST\\\\nHULL NO. : 8250/8251 PAGE : ...</td>\n",
       "      <td>A package list for equipment like a F.W. gener...</td>\n",
       "      <td>simple</td>\n",
       "      <td>[{'Query': 'what is the feature of FW generato...</td>\n",
       "      <td>True</td>\n",
       "      <td>A typical package list for equipment such as a...</td>\n",
       "    </tr>\n",
       "    <tr>\n",
       "      <th>2</th>\n",
       "      <td>What does \"M536 AA\" refer to in the package li...</td>\n",
       "      <td>[['PACKAGE LIST\\\\nHULL NO. : 8250/8251 PAGE : ...</td>\n",
       "      <td>The answer to given question is not present in...</td>\n",
       "      <td>reasoning</td>\n",
       "      <td>[{'Query': 'what is the feature of FW generato...</td>\n",
       "      <td>True</td>\n",
       "      <td>\"M536 AA\" in the package list refers to a \"F.W...</td>\n",
       "    </tr>\n",
       "    <tr>\n",
       "      <th>3</th>\n",
       "      <td>What's included in the spare parts &amp; tools pac...</td>\n",
       "      <td>[['PACKAGE LIST\\\\nHULL NO. : 8250/8251 PAGE : ...</td>\n",
       "      <td>The answer to given question is not present in...</td>\n",
       "      <td>multi_context</td>\n",
       "      <td>[{'Query': 'what is the feature of FW generato...</td>\n",
       "      <td>True</td>\n",
       "      <td>The spare parts and tools package for the F.W....</td>\n",
       "    </tr>\n",
       "  </tbody>\n",
       "</table>\n",
       "</div>"
      ],
      "text/plain": [
       "                                            question  \\\n",
       "0  What is included in the spare parts & tools pa...   \n",
       "1  What information is typically included in a pa...   \n",
       "2  What does \"M536 AA\" refer to in the package li...   \n",
       "3  What's included in the spare parts & tools pac...   \n",
       "\n",
       "                                            contexts  \\\n",
       "0  [['PACKAGE LIST\\\\nHULL NO. : 8250/8251 PAGE : ...   \n",
       "1  [['PACKAGE LIST\\\\nHULL NO. : 8250/8251 PAGE : ...   \n",
       "2  [['PACKAGE LIST\\\\nHULL NO. : 8250/8251 PAGE : ...   \n",
       "3  [['PACKAGE LIST\\\\nHULL NO. : 8250/8251 PAGE : ...   \n",
       "\n",
       "                                              answer evolution_type  \\\n",
       "0  The spare parts & tools package for the F.W. g...         simple   \n",
       "1  A package list for equipment like a F.W. gener...         simple   \n",
       "2  The answer to given question is not present in...      reasoning   \n",
       "3  The answer to given question is not present in...  multi_context   \n",
       "\n",
       "                                            metadata  episode_done  \\\n",
       "0  [{'Query': 'what is the feature of FW generato...          True   \n",
       "1  [{'Query': 'what is the feature of FW generato...          True   \n",
       "2  [{'Query': 'what is the feature of FW generato...          True   \n",
       "3  [{'Query': 'what is the feature of FW generato...          True   \n",
       "\n",
       "                                        ground_truth  \n",
       "0  The context provided does not contain detailed...  \n",
       "1  A typical package list for equipment such as a...  \n",
       "2  \"M536 AA\" in the package list refers to a \"F.W...  \n",
       "3  The spare parts and tools package for the F.W....  "
      ]
     },
     "execution_count": 6,
     "metadata": {},
     "output_type": "execute_result"
    }
   ],
   "source": [
    "from langchain_core.prompts import ChatPromptTemplate, HumanMessagePromptTemplate\n",
    "\n",
    "# Creating the ground truth simulation prompt template\n",
    "GT_SIMULATION_PROMPT = '''You are an expert evaluator for question-answering systems. Your task is to provide the ideal ground truth answer based on the given question and context. Please follow these guidelines:\n",
    "\n",
    "1. Question: {question}\n",
    "\n",
    "2. Context: {context}\n",
    "\n",
    "3. Instructions:\n",
    "   - Carefully analyze the question and the provided context.\n",
    "   - Formulate a comprehensive and accurate answer based solely on the information given in the context.\n",
    "   - Ensure your answer directly addresses the question.\n",
    "   - Include all relevant information from the context, but do not add any external knowledge.\n",
    "   - If the context doesn't contain enough information to fully answer the question, state this clearly and provide the best possible partial answer.\n",
    "   - Use a formal, objective tone.\n",
    "\n",
    "Remember, your goal is to provide the ideal answer that should be used as the benchmark for evaluating the AI's performance.'''\n",
    "\n",
    "\n",
    "# Creating the prompt engineering emplate to generate the simulated ground truth\n",
    "gt_generation_prompt = ChatPromptTemplate.from_messages(messages = [\n",
    "    HumanMessagePromptTemplate.from_template(template = GT_SIMULATION_PROMPT)\n",
    "])\n",
    "\n",
    "# Instantiating the Llama 3 model via Perplexity\n",
    "llm = ChatOpenAI(model = 'gpt-4o')\n",
    "\n",
    "# Creating the inference chain to generate the simulated ground truth\n",
    "gt_generation_chain = gt_generation_prompt | llm\n",
    "\n",
    "def generate_ground_truth_text(row):\n",
    "    '''\n",
    "    Generates simulated ground truth text per a given the provided question and context\n",
    "    \n",
    "    Inputs:\n",
    "        - row (Pandas DataFrame record): A single record from the Pandas DataFrame\n",
    "        \n",
    "    Returns:\n",
    "        - gt_text (str): The ground truth text generated by the AI model per the record\n",
    "    '''\n",
    "    \n",
    "    # Checking to see if the ground truth text has already been generated\n",
    "    if row['ground_truth'] == '':\n",
    "        \n",
    "        # Generating the ground truth text\n",
    "        gt_text = gt_generation_chain.invoke(\n",
    "            {\n",
    "                'question': row['question'],\n",
    "                'context': row['contexts']\n",
    "            }\n",
    "        ).content\n",
    "        \n",
    "        return gt_text\n",
    "    \n",
    "    else:\n",
    "        \n",
    "        # Returning what is already in place if the string is not empty\n",
    "        return row['ground_truth']\n",
    "\n",
    "# Generating the ground truth\n",
    "df_testset['ground_truth'] = df_testset.apply(generate_ground_truth_text, axis = 1)\n",
    "df_testset"
   ]
  },
  {
   "cell_type": "code",
   "execution_count": 7,
   "metadata": {},
   "outputs": [
    {
     "data": {
      "text/plain": [
       "[\"['PACKAGE LIST\\\\\\\\nHULL NO. : 8250/8251 PAGE : 0\\\\\\\\nPOR NO.\\\\\\\\nSER. SEQ. DESCRIPTION Q’TY REMARK\\\\\\\\nNO. NO.\\\\\\\\nM536 AA F.W. GENERATOR EVAPORATING TYPE 1 Separately\\\\\\\\n\\\\\\\\nM536 BB SPARE PARTS & TOOLS FOR F.W. GENERATOR 1\\\\\\\\n\\\\\\\\n\\\\\\\\n\\\\\\\\n1. EACH UNIT WITHIN A PACKAGE OR SHIPPING CONTAINER SHALL BE\\\\\\\\nCLEARLY MARKED IN A MANNER AS MAY BE DESIGNATED BY THE BUYER\\\\\\\\nBY STAMPING, TAGGING OR OTHER SUITABLE MEANS WITH\\\\\\\\nIDENTIFICATION OF SUPPLY.\\\\\\\\nTHE OUTSIDE OF EACH PACKAGE AND OR PROTECTIVE DEVICES SHALL\\\\\\\\nBE CLEARLY MARKED, REFERING SHIPPING MARK.\\\\\\\\n2. ABOVE POR NO. (SER. NO. - SEQ. NO.) AND DESCRIPTION MUST BE\\\\\\\\nMARKED ON EACH PACKAGE AND PACKING LIST.', None, 'the approval drawing.\\\\\\\\n20) Eye-plate to be suitably fitted for rotor of generator, steam turbines, electric motors,\\\\\\\\nheat exchanger’s cover/tube/bundles and heavy strainer’s cover/filter/element of about\\\\\\\\n40 kg & above (And lifting eyes to have a min. diameter of 23 mm).\\\\\\\\n21) Test provision such as three way test cock to be provided for pressure switches and\\\\\\\\npressure transmitters.']\"]"
      ]
     },
     "execution_count": 7,
     "metadata": {},
     "output_type": "execute_result"
    }
   ],
   "source": [
    "df_testset[\"contexts\"][0]"
   ]
  },
  {
   "cell_type": "code",
   "execution_count": 8,
   "metadata": {},
   "outputs": [
    {
     "data": {
      "text/plain": [
       "Dataset({\n",
       "    features: ['question', 'contexts', 'answer', 'ground_truth'],\n",
       "    num_rows: 4\n",
       "})"
      ]
     },
     "execution_count": 8,
     "metadata": {},
     "output_type": "execute_result"
    }
   ],
   "source": [
    "from datasets import Dataset\n",
    "\n",
    "def pandas_to_ragas(df):\n",
    "    '''\n",
    "    Converts a Pandas DataFrame into a Ragas-compatible dataset\n",
    "    \n",
    "    Inputs:\n",
    "        - df (Pandas DataFrame): The input DataFrame to be converted\n",
    "        \n",
    "    Returns:\n",
    "        - ragas_testset (Hugging Face Dataset): A Hugging Face dataset compatible with the Ragas framework\n",
    "    '''\n",
    "    # Ensure all text columns are strings and handle NaN values\n",
    "    text_columns = ['question', 'ground_truth', 'answer']\n",
    "    for col in text_columns:\n",
    "        df[col] = df[col].fillna('').astype(str)\n",
    "        \n",
    "    # Convert 'contexts' to a list of lists\n",
    "    df['contexts'] = df['contexts'].fillna('').astype(str).apply(lambda x: [x] if x else [])\n",
    "    \n",
    "    # Converting the DataFrame to a dictionary\n",
    "    data_dict = df[['question', 'contexts', 'answer', 'ground_truth']].to_dict('list')\n",
    "    \n",
    "    # Loading the dictionary as a Hugging Face dataset\n",
    "    ragas_testset = Dataset.from_dict(data_dict)\n",
    "    \n",
    "    return ragas_testset\n",
    "\n",
    "\n",
    "# Converting the Pandas DataFrame into a Ragas-compatible Hugging Face dataset\n",
    "ragas_testset = pandas_to_ragas(df = df_testset)\n",
    "ragas_testset"
   ]
  },
  {
   "cell_type": "code",
   "execution_count": 9,
   "metadata": {},
   "outputs": [],
   "source": [
    "from ragas import evaluate\n",
    "from ragas.metrics import (\n",
    "    answer_relevancy,\n",
    "    answer_correctness,\n",
    "    answer_similarity,\n",
    "    faithfulness,\n",
    "    context_recall,\n",
    "    context_precision,\n",
    ")\n",
    "metrics=[\n",
    "    answer_relevancy,\n",
    "    answer_correctness,\n",
    "    answer_similarity,\n",
    "    faithfulness,\n",
    "    context_recall,\n",
    "    context_precision,\n",
    "    ],"
   ]
  },
  {
   "cell_type": "code",
   "execution_count": 10,
   "metadata": {},
   "outputs": [
    {
     "data": {
      "application/vnd.jupyter.widget-view+json": {
       "model_id": "490884fec22149d9821d56f0aa8c2d4f",
       "version_major": 2,
       "version_minor": 0
      },
      "text/plain": [
       "Evaluating:   0%|          | 0/24 [00:00<?, ?it/s]"
      ]
     },
     "metadata": {},
     "output_type": "display_data"
    },
    {
     "name": "stderr",
     "output_type": "stream",
     "text": [
      "No statements were generated from the answer.\n",
      "No statements were generated from the answer.\n"
     ]
    },
    {
     "data": {
      "text/plain": [
       "{'answer_relevancy': 0.4923, 'answer_correctness': 0.2591, 'answer_similarity': 0.8144, 'faithfulness': 1.0000, 'context_precision': 0.7500, 'context_recall': 0.9250}"
      ]
     },
     "execution_count": 10,
     "metadata": {},
     "output_type": "execute_result"
    }
   ],
   "source": [
    "from langchain_community.embeddings import OllamaEmbeddings\n",
    "from langchain_community.chat_models import ChatOllama\n",
    "# llm = ChatOllama(model=\"phi3:latest\")\n",
    "# embeddings = OllamaEmbeddings(model=\"nomic-embed-text\")\n",
    "\n",
    "\n",
    "from langchain_groq import ChatGroq\n",
    "# llm = ChatGroq(name=\"gemma2-9b-it\")   \n",
    "# llm = ChatGroq(name=\"llama3-8b-8192\")  \n",
    "# llm = ChatGroq(name=\"llama3-70b-8192\")  \n",
    "\n",
    "naive_results = evaluate(\n",
    "    ragas_testset, \n",
    "    metrics = [\n",
    "        answer_relevancy,\n",
    "        answer_correctness,\n",
    "        answer_similarity,\n",
    "        faithfulness,\n",
    "        context_precision,\n",
    "        context_recall,\n",
    "    ],\n",
    "    llm = llm,\n",
    "    embeddings=embeddings,\n",
    "    raise_exceptions=False)\n",
    "\n",
    "naive_results"
   ]
  }
 ],
 "metadata": {
  "kernelspec": {
   "display_name": "jarvis_env",
   "language": "python",
   "name": "python3"
  },
  "language_info": {
   "codemirror_mode": {
    "name": "ipython",
    "version": 3
   },
   "file_extension": ".py",
   "mimetype": "text/x-python",
   "name": "python",
   "nbconvert_exporter": "python",
   "pygments_lexer": "ipython3",
   "version": "3.10.11"
  }
 },
 "nbformat": 4,
 "nbformat_minor": 2
}
